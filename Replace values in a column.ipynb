{
 "cells": [
  {
   "cell_type": "code",
   "execution_count": 1,
   "id": "91341572",
   "metadata": {},
   "outputs": [],
   "source": [
    "import pandas as pd\n",
    "from datetime import date, datetime, timedelta\n",
    "import time"
   ]
  },
  {
   "cell_type": "code",
   "execution_count": null,
   "id": "3a0493b6",
   "metadata": {},
   "outputs": [],
   "source": [
    "df_mso = pd.read_excel(r'', sheet_name=1)\n",
    "df_mso_dropped_na = df_mso.dropna(axis=0, how='all')\n",
    "df_mso_daily_tenors = df_mso_dropped_na[df_mso_dropped_na['TNR_BUCKET'].str.concatins('D')]"
   ]
  },
  {
   "cell_type": "code",
   "execution_count": null,
   "id": "76af9e5e",
   "metadata": {},
   "outputs": [],
   "source": [
    "time = datetime.now()\n",
    "weekday = datetime.today().isoweekday()\n",
    "if weekday == 1:\n",
    "    df_mso_daily_tenors.replace({'TNR_BUCKET': {'1D': '3D', '2D': '4D', '3D': '5D'}}, inplace=True)\n",
    "elif weekday == 4:\n",
    "    df_mso_daily_tenors.replace({'TNR_BUCKET': {'3D': '5D'}}, inplace=True)\n",
    "elif weekday == 5 :\n",
    "    df_mso_daily_tenors.replace({'TNR_BUCKET': {'2D': '4D', '3D': '5D'}}, inplace=True)\n",
    "else:\n",
    "    df_mso_daily_tenors.replace({'TNR_BUCKET': {'1D': '6D', '2D': '7D', '3D': '8D'}}, inplace=True)\n",
    "    \n",
    "df_mso_daily_tenors.to_excel(r'') "
   ]
  },
  {
   "cell_type": "code",
   "execution_count": null,
   "id": "b8ae3289",
   "metadata": {},
   "outputs": [],
   "source": []
  }
 ],
 "metadata": {
  "kernelspec": {
   "display_name": "Python 3 (ipykernel)",
   "language": "python",
   "name": "python3"
  },
  "language_info": {
   "codemirror_mode": {
    "name": "ipython",
    "version": 3
   },
   "file_extension": ".py",
   "mimetype": "text/x-python",
   "name": "python",
   "nbconvert_exporter": "python",
   "pygments_lexer": "ipython3",
   "version": "3.9.7"
  }
 },
 "nbformat": 4,
 "nbformat_minor": 5
}
