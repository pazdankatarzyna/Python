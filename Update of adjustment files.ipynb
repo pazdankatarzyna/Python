{
 "cells": [
  {
   "cell_type": "code",
   "execution_count": null,
   "id": "399769cf",
   "metadata": {},
   "outputs": [],
   "source": [
    "import pandas as pd\n",
    "import time\n",
    "from datetime import date, datetime, timedelta"
   ]
  },
  {
   "cell_type": "code",
   "execution_count": null,
   "id": "6b42d69b",
   "metadata": {},
   "outputs": [],
   "source": [
    "# Updating monthly adjustments for SLG\n",
    "slg_daily_report_path = r''\n",
    "slg_monthly_path = r''\n",
    "\n",
    "\n",
    "# List of monthly adjustments for SLG\n",
    "monthly_adj_for_slg = ['Adj_207_HK', 'Adj_210_PRV', 'Adj_608_BUSA', 'Adj_609_BUSAID', 'Adj_613_CNH', 'Adj_614_COLL',\n",
    "                     'Adj_619_ETY', 'Adj_628_GELT', 'Adj_632_DOWNG', 'Adj_634_PBIN', 'Adj_635_SFT',\n",
    "                     'Adj_636_COLL', 'Adj_637_GRP', 'Adj_639_UCL', 'Adj_DQ_642_ELN', 'Adj_756_CHINA']\n",
    "\n",
    "# Reading MW Daily Adjustments Report\n",
    "slg = pd.read_excel(r'{}'.format(slg_daily_report_path))\n",
    "\n",
    "# Reading ME adjustments for SLG\n",
    "slg_monthly = pd.read_excel(r'{}'.format(slg_monthly_path))\n",
    "slg_monthly = slg_monthly[slg_monthly['LFM_ADJ_CD'].isin(monthly_adj_for_slg)]\n",
    "\n",
    "# Removing monthly adjvalues from previous ME\n",
    "slg.drop(slg[slg['LFM_ADJ_CD'].isin(monthly_adj_for_slg)].index, inplace=True)\n",
    "\n",
    "\n",
    "# Combining Daily Adj Report with updated monthly adj\n",
    "slg_monthly_adj_updated = pd.concat([slg, slg_monthly])\n",
    "slg_monthly_adj_updated = slg_monthly_adj_updated.drop('Unnamed: 0', axis=1)\n",
    "slg_monthly_adj_updated['GCR_GAAP'] = slg_monthly_adj_updated['GCR_GAAP'].astype('str').str.zfill(3)\n",
    "slg_monthly_adj_updated['REGULATORY_PRODUCT'] = slg_monthly_adj_updated['GEGULATORY_PRODUCT'].astype('str').str.zfill(4)\n",
    "slg_monthly_adj_updated['FISC_YEAR'] = date.today().strftime('%Y%m')\n",
    "slg_monthly_adj_updated.to_excel(r'')"
   ]
  },
  {
   "cell_type": "code",
   "execution_count": null,
   "id": "c285c94c",
   "metadata": {},
   "outputs": [],
   "source": [
    "# Updating monthly adjustments forMW\n",
    "mw_daily_report_path = r''\n",
    "mw_monthly_path = r''\n",
    "\n",
    "# List of monthly adjustments for MW\n",
    "monthly_adj_for_mw = ['Adj_209_CB', 'Adj_608_BUSA', 'Adj_609_BUSAID', 'Adj_613_CNH', 'Adj_615_COLL',\n",
    "                     'Adj_618_EQTY', 'Adj_628_GELD', 'Adj_632_DOWNG', 'Adj_634_PBIN', 'Adj_635_SFT',\n",
    "                     'Adj_636_COLL', 'Adj_637_GRP', 'Adj_638_SPE', 'Adj_DQ_630_ELN', 'Adj_756_COLL']\n",
    "\n",
    "# Reading MW Daily Adjustments Report\n",
    "mw = d.read_excel(r'{}'.format(mw_daily_report_path))\n",
    "\n",
    "# Reading ME adjustments for MW\n",
    "mw_monthly = pd.read_excel(r'{}'.format(mw_monthly_path))\n",
    "mw_monthly = mw_monthly[mw_monthly['LFM_ADJ_CD'].isin(monthly_adj_for_mw)]\n",
    "\n",
    "# Removing monthly adjvalues from previous ME\n",
    "mw.drop(mw[mw['LFM_ADJ_CD'].isin(monthly_adj_for_mw)].index, inplace=True)\n",
    "\n",
    "\n",
    "# Combining Daily Adj Report with updated monthly adj\n",
    "mw_monthly_adj_updated = pd.concat([mw, mw_monthly])\n",
    "mw_monthly_adj_updated = mw_monthly_adj_updated.drop('Unnamed: 0', axis=1)\n",
    "mw_monthly_adj_updated['GCR_GAAP'] = mw_monthly_adj_updated['GCR_GAAP'].astype('str').str.zfill(3)\n",
    "mw_monthly_adj_updated['REGULATORY_PRODUCT'] = mw_monthly_adj_updated['GEGULATORY_PRODUCT'].astype('str').str.zfill(4)\n",
    "mw_monthly_adj_updated['FISC_YEAR'] = date.today().strftime('%Y%m')\n",
    "mw_monthly_adj_updated.to_excel(r'')"
   ]
  },
  {
   "cell_type": "code",
   "execution_count": null,
   "id": "97c27fc2",
   "metadata": {},
   "outputs": [],
   "source": []
  },
  {
   "cell_type": "code",
   "execution_count": null,
   "id": "e9c9b42f",
   "metadata": {},
   "outputs": [],
   "source": []
  },
  {
   "cell_type": "code",
   "execution_count": null,
   "id": "f859ee96",
   "metadata": {},
   "outputs": [],
   "source": []
  },
  {
   "cell_type": "code",
   "execution_count": null,
   "id": "214bfd81",
   "metadata": {},
   "outputs": [],
   "source": []
  },
  {
   "cell_type": "code",
   "execution_count": null,
   "id": "cdbee0a7",
   "metadata": {},
   "outputs": [],
   "source": []
  },
  {
   "cell_type": "code",
   "execution_count": null,
   "id": "33eeee27",
   "metadata": {},
   "outputs": [],
   "source": []
  },
  {
   "cell_type": "code",
   "execution_count": null,
   "id": "625386b7",
   "metadata": {},
   "outputs": [],
   "source": []
  }
 ],
 "metadata": {
  "kernelspec": {
   "display_name": "Python 3 (ipykernel)",
   "language": "python",
   "name": "python3"
  },
  "language_info": {
   "codemirror_mode": {
    "name": "ipython",
    "version": 3
   },
   "file_extension": ".py",
   "mimetype": "text/x-python",
   "name": "python",
   "nbconvert_exporter": "python",
   "pygments_lexer": "ipython3",
   "version": "3.9.7"
  }
 },
 "nbformat": 4,
 "nbformat_minor": 5
}
